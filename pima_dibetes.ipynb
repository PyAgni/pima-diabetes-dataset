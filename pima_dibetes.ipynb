{
 "cells": [
  {
   "cell_type": "markdown",
   "metadata": {},
   "source": [
    "# Prediction of diabetes using Naive Bayes Algorithm"
   ]
  },
  {
   "cell_type": "markdown",
   "metadata": {},
   "source": []
  },
  {
   "cell_type": "code",
   "execution_count": 101,
   "metadata": {},
   "outputs": [],
   "source": [
    "import numpy as np\n",
    "import pandas as pd\n",
    "import matplotlib.pyplot as plt"
   ]
  },
  {
   "cell_type": "code",
   "execution_count": 102,
   "metadata": {},
   "outputs": [],
   "source": [
    "#load the dataset using numpy\n",
    "with open('./data/diabetes.csv','r') as f:\n",
    "    f.readline()\n",
    "    data = np.loadtxt(f, delimiter = ',')\n",
    "    X = data[:, :-1]\n",
    "    y = data[:, -1]"
   ]
  },
  {
   "cell_type": "code",
   "execution_count": 103,
   "metadata": {},
   "outputs": [],
   "source": [
    "#load the data using pandas\n",
    "data=pd.read_csv('./data/diabetes.csv')"
   ]
  },
  {
   "cell_type": "code",
   "execution_count": 104,
   "metadata": {},
   "outputs": [
    {
     "data": {
      "text/html": [
       "<div>\n",
       "<style scoped>\n",
       "    .dataframe tbody tr th:only-of-type {\n",
       "        vertical-align: middle;\n",
       "    }\n",
       "\n",
       "    .dataframe tbody tr th {\n",
       "        vertical-align: top;\n",
       "    }\n",
       "\n",
       "    .dataframe thead th {\n",
       "        text-align: right;\n",
       "    }\n",
       "</style>\n",
       "<table border=\"1\" class=\"dataframe\">\n",
       "  <thead>\n",
       "    <tr style=\"text-align: right;\">\n",
       "      <th></th>\n",
       "      <th>Pregnancies</th>\n",
       "      <th>Glucose</th>\n",
       "      <th>BloodPressure</th>\n",
       "      <th>SkinThickness</th>\n",
       "      <th>Insulin</th>\n",
       "      <th>BMI</th>\n",
       "      <th>DiabetesPedigreeFunction</th>\n",
       "      <th>Age</th>\n",
       "      <th>Outcome</th>\n",
       "    </tr>\n",
       "  </thead>\n",
       "  <tbody>\n",
       "    <tr>\n",
       "      <th>0</th>\n",
       "      <td>6</td>\n",
       "      <td>148</td>\n",
       "      <td>72</td>\n",
       "      <td>35</td>\n",
       "      <td>0</td>\n",
       "      <td>33.6</td>\n",
       "      <td>0.627</td>\n",
       "      <td>50</td>\n",
       "      <td>1</td>\n",
       "    </tr>\n",
       "    <tr>\n",
       "      <th>1</th>\n",
       "      <td>1</td>\n",
       "      <td>85</td>\n",
       "      <td>66</td>\n",
       "      <td>29</td>\n",
       "      <td>0</td>\n",
       "      <td>26.6</td>\n",
       "      <td>0.351</td>\n",
       "      <td>31</td>\n",
       "      <td>0</td>\n",
       "    </tr>\n",
       "    <tr>\n",
       "      <th>2</th>\n",
       "      <td>8</td>\n",
       "      <td>183</td>\n",
       "      <td>64</td>\n",
       "      <td>0</td>\n",
       "      <td>0</td>\n",
       "      <td>23.3</td>\n",
       "      <td>0.672</td>\n",
       "      <td>32</td>\n",
       "      <td>1</td>\n",
       "    </tr>\n",
       "    <tr>\n",
       "      <th>3</th>\n",
       "      <td>1</td>\n",
       "      <td>89</td>\n",
       "      <td>66</td>\n",
       "      <td>23</td>\n",
       "      <td>94</td>\n",
       "      <td>28.1</td>\n",
       "      <td>0.167</td>\n",
       "      <td>21</td>\n",
       "      <td>0</td>\n",
       "    </tr>\n",
       "    <tr>\n",
       "      <th>4</th>\n",
       "      <td>0</td>\n",
       "      <td>137</td>\n",
       "      <td>40</td>\n",
       "      <td>35</td>\n",
       "      <td>168</td>\n",
       "      <td>43.1</td>\n",
       "      <td>2.288</td>\n",
       "      <td>33</td>\n",
       "      <td>1</td>\n",
       "    </tr>\n",
       "  </tbody>\n",
       "</table>\n",
       "</div>"
      ],
      "text/plain": [
       "   Pregnancies  Glucose  BloodPressure  SkinThickness  Insulin   BMI  \\\n",
       "0            6      148             72             35        0  33.6   \n",
       "1            1       85             66             29        0  26.6   \n",
       "2            8      183             64              0        0  23.3   \n",
       "3            1       89             66             23       94  28.1   \n",
       "4            0      137             40             35      168  43.1   \n",
       "\n",
       "   DiabetesPedigreeFunction  Age  Outcome  \n",
       "0                     0.627   50        1  \n",
       "1                     0.351   31        0  \n",
       "2                     0.672   32        1  \n",
       "3                     0.167   21        0  \n",
       "4                     2.288   33        1  "
      ]
     },
     "execution_count": 104,
     "metadata": {},
     "output_type": "execute_result"
    }
   ],
   "source": [
    "data.head()"
   ]
  },
  {
   "cell_type": "code",
   "execution_count": 105,
   "metadata": {},
   "outputs": [
    {
     "data": {
      "image/png": "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
